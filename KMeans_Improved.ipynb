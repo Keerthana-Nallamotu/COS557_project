{
 "cells": [
  {
   "cell_type": "code",
   "execution_count": 8,
   "id": "3e43b937-0544-44c4-b513-4deb4018feb9",
   "metadata": {},
   "outputs": [],
   "source": [
    "import pandas as pd\n",
    "import os\n",
    "import re\n",
    "import torch\n",
    "import numpy as np\n",
    "from PIL import Image\n",
    "from sklearn.cluster import KMeans\n",
    "from torch.utils.data import Dataset, DataLoader\n",
    "from torchvision.transforms import Compose, Resize, ToTensor\n",
    "from torch import nn, optim\n",
    "import random\n",
    "import matplotlib.pyplot as plt\n",
    "from sklearn.preprocessing import MinMaxScaler, StandardScaler\n",
    "from scipy.spatial import distance\n",
    "import cv2\n",
    "from matplotlib.colors import ListedColormap\n",
    "import torch.nn.functional as F"
   ]
  },
  {
   "cell_type": "code",
   "execution_count": 3,
   "id": "f142a92a-11f2-4703-ab16-5e604c442680",
   "metadata": {},
   "outputs": [],
   "source": [
    "labels_df = pd.read_csv(\"LERA_Dataset/labels.csv\", names = [\"patient_ID\", \"image_type\", \"label\"])"
   ]
  },
  {
   "cell_type": "code",
   "execution_count": 5,
   "id": "9c27f167-e7dc-4e1d-ad52-6a8fd75a0648",
   "metadata": {},
   "outputs": [],
   "source": [
    "ankle_df = labels_df[labels_df[\"image_type\"]==\"XR ANKLE\"]\n",
    "ankle_patients = list(ankle_df[\"patient_ID\"])\n",
    "\n",
    "image_paths = []\n",
    "\n",
    "for patient in ankle_patients:\n",
    "    dir = f\"LERA_Dataset/{str(patient)}/ST-1\"\n",
    "    image_paths.extend(os.path.join(dir, file) for file in os.listdir(dir) if file.endswith(\".png\"))"
   ]
  },
  {
   "cell_type": "code",
   "execution_count": 6,
   "id": "32164f70-4a4a-4977-bea9-1fda546c3fbb",
   "metadata": {},
   "outputs": [
    {
     "data": {
      "text/plain": [
       "321"
      ]
     },
     "execution_count": 6,
     "metadata": {},
     "output_type": "execute_result"
    }
   ],
   "source": [
    "len(image_paths)"
   ]
  },
  {
   "cell_type": "code",
   "execution_count": 11,
   "id": "faeca20c-8866-447d-bfcb-cedaa992c770",
   "metadata": {},
   "outputs": [],
   "source": [
    "class AnkleXrayDataset(Dataset):\n",
    "    def __init__(self, image_paths):\n",
    "        self.image_paths = image_paths\n",
    "\n",
    "    def __len__(self):\n",
    "        return len(self.image_paths)\n",
    "\n",
    "    def __getitem__(self, idx):\n",
    "        image_path = self.image_paths[idx]\n",
    "        \n",
    "        image = Image.open(image_path).convert(\"L\").resize((256, 256))\n",
    "        \n",
    "        image = ToTensor()(image)\n",
    "        \n",
    "        return image"
   ]
  },
  {
   "cell_type": "code",
   "execution_count": 9,
   "id": "03cade2b-5956-4bca-b427-915792dfe1c4",
   "metadata": {},
   "outputs": [],
   "source": [
    "def gaussian_kernel(size, sigma=1.0):\n",
    "    x_coords = -(size // 2)\n",
    "    y_coords = size // 2 + 1\n",
    "    coordinates = np.arange(x_coords, y_coords)\n",
    "    x, y = np.meshgrid(coordinates, coordinates)\n",
    "    kernel = np.exp(-(x**2 + y**2) / (2 * sigma**2))\n",
    "    output_kernel = kernel / kernel.sum()\n",
    "    return output_kernel"
   ]
  },
  {
   "cell_type": "code",
   "execution_count": 22,
   "id": "13b4c185-227b-42bf-b0f5-6a84d7eb88d5",
   "metadata": {},
   "outputs": [],
   "source": [
    "def generate_pseudo_labels(image):\n",
    "    \n",
    "    image_np = image.squeeze().numpy() * 255\n",
    "    \n",
    "    kernel_size = 5\n",
    "    kernel = gaussian_kernel(kernel_size, sigma=5.0)\n",
    "    kernel = torch.FloatTensor(kernel).unsqueeze(0).unsqueeze(0)\n",
    "\n",
    "    padding = kernel_size//2\n",
    "    image_padded = F.pad(image.unsqueeze(0), \n",
    "                              (padding, padding, padding, padding), \n",
    "                              mode='reflect')\n",
    "    denoised_image = F.conv2d(image_padded, kernel)\n",
    "    \n",
    "    denoised_image = denoised_image.squeeze().numpy() * 255\n",
    "    \n",
    "    p2, p98 = np.percentile(denoised_image, (2, 98))\n",
    "    denoised_image = np.clip((denoised_image - p2) / (p98 - p2) * 255, 0, 255)\n",
    "    \n",
    "    flattened_image = denoised_image.reshape(-1).astype(np.float32).reshape(-1, 1)\n",
    "    clusters = 5\n",
    "    kmeans = KMeans(n_clusters=clusters).fit(flattened_image)\n",
    "    labels = kmeans.labels_.reshape(denoised_image.shape)\n",
    "    \n",
    "    if np.mean(labels == 0) > np.mean(labels == 1):\n",
    "        labels = 1 - labels\n",
    "\n",
    "    return torch.tensor(labels).unsqueeze(0).float() / 100"
   ]
  },
  {
   "cell_type": "code",
   "execution_count": 29,
   "id": "d36d8546-f2d3-4794-8562-ec6050cab85f",
   "metadata": {},
   "outputs": [],
   "source": [
    "def segment():\n",
    "    all_labels = []\n",
    "    \n",
    "    for images in dataloader:\n",
    "        pseudo_label = [generate_pseudo_labels(img.cpu()) for img in images]\n",
    "        all_labels.append(pseudo_label)\n",
    "\n",
    "    return all_labels"
   ]
  },
  {
   "cell_type": "code",
   "execution_count": 27,
   "id": "defb52f1-d5e2-4aac-a273-e8c7eb448a8b",
   "metadata": {},
   "outputs": [],
   "source": [
    "full_dataset = AnkleXrayDataset(image_paths)\n",
    "dataloader = DataLoader(full_dataset, batch_size=1)"
   ]
  },
  {
   "cell_type": "code",
   "execution_count": null,
   "id": "ee335b47-60d0-4102-a312-d63568fc8e3b",
   "metadata": {},
   "outputs": [],
   "source": [
    "segmented_images = segment()"
   ]
  },
  {
   "cell_type": "code",
   "execution_count": null,
   "id": "b0b042f6-c336-41d0-9a70-28067fbf90bd",
   "metadata": {},
   "outputs": [],
   "source": []
  }
 ],
 "metadata": {
  "kernelspec": {
   "display_name": "CS551-project",
   "language": "python",
   "name": "cs551-project"
  },
  "language_info": {
   "codemirror_mode": {
    "name": "ipython",
    "version": 3
   },
   "file_extension": ".py",
   "mimetype": "text/x-python",
   "name": "python",
   "nbconvert_exporter": "python",
   "pygments_lexer": "ipython3",
   "version": "3.12.7"
  }
 },
 "nbformat": 4,
 "nbformat_minor": 5
}
